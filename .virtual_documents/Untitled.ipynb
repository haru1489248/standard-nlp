import matplotlib.pyplot as plt
import japanize_matplotlib


plt.rcParams['font.size'] = 14

fig, ax = plt.subplots(facecolor='white')
ax.bar(['月','火','水','木','金','土','日'],[19,22,24,21,20,22,20], label='最高気温') #棒グラフ
# ax.plot(['月','火','水','木','金','土','日'],[19,22,24,21,20,22,20], label='最高気温', marker='o')  #折れ線グラフ
ax.plot(['月','火','水','木','金','土','日'],[10,13,12,12,10,11,12], label='最低気温', marker='^', color='m')
ax.set_xlabel('曜日')
ax.set_ylabel('気温', rotation='horizontal')
ax.set_yticks([0, 5, 10, 15, 20, 25])
ax.set_title('東京 10月1週目')
ax.grid()
ax.legend()


fig, ax = plt.subplots(facecolor='white')

ax.scatter([120, 122, 122, 123, 125, 125, 126, 127, 128, 129, 129, 130], #散布図
           [21, 23, 22, 26, 21, 25, 28, 27, 28, 25, 31, 32])
ax.set_xlabel('身長')
ax.set_ylabel('体重', rotation='horizontal')
ax.set_title('２年1組')
ax.grid()


fig, ax = plt.subplots(facecolor='white')

ax.hist([30, 41, 43, 45, 50, 51, 55, 56, 59, 60, 61, 63, 64, 66, 69, 69, 72, 75, 77, 80, 87, 90, 95], bins=5)
# ax.hist([30, 41, 43, 45, 50, 51, 55, 56, 59, 60, 61, 63, 64, 66, 69, 69, 72, 75, 77, 80, 87, 90, 95], color='m')

ax.set_xlabel('点数')
ax.set_ylabel('人数', rotation='horizontal')
ax.set_title('２年1組')
ax.grid()


fig, ax = plt.subplots(2, 2, facecolor='white', figsize=(15, 10))

ax[0, 0].plot(['月','火','水','木','金','土','日'],[19,22,24,21,20,22,20])
ax[0, 0].set_title('[0, 0]のグラフ')
ax[0, 1].bar(['月','火','水','木','金','土','日'],[10,13,12,12,10,11,12])
ax[0, 1].set_title('[0, 1]のグラフ')
ax[1, 0].scatter([120, 122, 122, 123, 125, 125, 126, 127, 128, 129, 129, 130], #散布図
           [21, 23, 22, 26, 21, 25, 28, 27, 28, 25, 31, 32])
ax[1, 0].set_title('[1, 0]のグラフ')

ax[1, 1].hist([30, 41, 43, 45, 50, 51, 55, 56, 59, 60, 61, 63, 64, 66, 69, 69, 72, 75, 77, 80, 87, 90, 95], bins=5)
ax[1, 1].set_title('[1, 1]のグラフ')



fig.savefig('graph.png')



